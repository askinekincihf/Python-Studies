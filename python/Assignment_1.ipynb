{
 "cells": [
  {
   "cell_type": "code",
   "execution_count": 1,
   "metadata": {
    "tags": []
   },
   "outputs": [
    {
     "output_type": "stream",
     "name": "stdout",
     "text": "The balance at the beginning of the week is: 1000 \n\nThe balance at the end of the day 1 is = 1070.0 $\nThe balance at the end of the day 2 is = 1144.9 $\nThe balance at the end of the day 3 is = 1225.04 $\nThe balance at the end of the day 4 is = 1310.8 $\nThe balance at the end of the day 5 is = 1402.55 $\nThe balance at the end of the day 6 is = 1500.73 $\nThe balance at the end of the day 7 is = 1605.78 $\n\nThe balance at the end of the week is: 1605.78 $\n"
    }
   ],
   "source": [
    "# Problem : If you had deposited a coin on the cryptocurrency exchange that brought 7% fixed profit daily for a week, how much would your $ 1000 reach at the end of the 7th day?.\n",
    "\n",
    "deposited_balance = 1000  # Value is currency \"$\"\n",
    "daily_profit = 7  # Value is percentage \"%\"\n",
    "print(\"The balance at the beginning of the week is:\", deposited_balance, \"\\n\")\n",
    "for i in range (1, 8):\n",
    "    deposited_balance += (deposited_balance * daily_profit)/100\n",
    "    print(\"The balance at the end of the day\", i, \"is =\", round(deposited_balance , 2), \"$\")\n",
    "print (\"\\nThe balance at the end of the week is:\",round(deposited_balance , 2), \"$\")"
   ]
  },
  {
   "cell_type": "code",
   "execution_count": 112,
   "metadata": {},
   "outputs": [
    {
     "output_type": "stream",
     "name": "stdout",
     "text": "The balance at the beginning of the week is: 1000 \n\nThe balance at the end of the day 1 is = 1070.0 $\nThe balance at the end of the day 2 is = 1144.9 $\nThe balance at the end of the day 3 is = 1225.04 $\nThe balance at the end of the day 4 is = 1310.8 $\nThe balance at the end of the day 5 is = 1402.55 $\nThe balance at the end of the day 6 is = 1500.73 $\nThe balance at the end of the day 7 is = 1605.78 $\n\nThe balance at the end of the week is: 1605.78 $\n"
    }
   ],
   "source": [
    "deposited_balance = 1000  # Value is currency \"$\"\n",
    "daily_profit = 7  # Value is percentage \"%\"\n",
    "print(\"The balance at the beginning of the week is:\", deposited_balance, \"\\n\")\n",
    "for i in range (7):\n",
    "    deposited_balance += (deposited_balance * daily_profit)/100\n",
    "    print(\"The balance at the end of the day\", i+1, \"is =\", round(deposited_balance , 2), \"$\")\n",
    "print (\"\\nThe balance at the end of the week is:\",round(deposited_balance , 2), \"$\")"
   ]
  },
  {
   "cell_type": "code",
   "execution_count": 113,
   "metadata": {},
   "outputs": [
    {
     "output_type": "stream",
     "name": "stdout",
     "text": "The balance at the beginning of the week is: 1000 \n\n1 the balance at the end of the day: 1070.0\n2 the balance at the end of the day: 1144.9\n3 the balance at the end of the day: 1225.0430000000001\n4 the balance at the end of the day: 1310.7960100000003\n5 the balance at the end of the day: 1402.5517307000005\n6 the balance at the end of the day: 1500.7303518490005\n7 the balance at the end of the day: 1605.7814764784307\n\nThe balance at the end of the week: 1605.7814764784307\n"
    }
   ],
   "source": [
    "deposited_balance = 1000\n",
    "daily_profit = 1.07 \n",
    "print(\"The balance at the beginning of the week is:\", deposited_balance, \"\\n\")\n",
    "for i in range (7):\n",
    "    deposited_balance *= daily_profit\n",
    "    print(i+1,\"the balance at the end of the day:\", deposited_balance)\n",
    "print(\"\\nThe balance at the end of the week:\", deposited_balance)"
   ]
  },
  {
   "cell_type": "code",
   "execution_count": 1,
   "metadata": {
    "tags": []
   },
   "outputs": [
    {
     "output_type": "stream",
     "name": "stdout",
     "text": "1605.78147647843\n"
    }
   ],
   "source": [
    "deposit = 1000 # ilk gun yatirdigimiz para - Pazartesi\n",
    "deposit = deposit * 7/100 + deposit # ilk gun parasi - Sali\n",
    "deposit = deposit * 7/100 + deposit # ikinci gun parasi - Carsamba\n",
    "deposit = deposit * 7/100 + deposit # ucuncu gun parasi - Persembe\n",
    "deposit = deposit * 7/100 + deposit # dorduncu gun parasi - Cuma\n",
    "deposit = deposit * 7/100 + deposit # besinci gun parasi - C.tesi\n",
    "deposit = deposit * 7/100 + deposit # altinci gun parasi - Pazar\n",
    "deposit = deposit * 7/100 + deposit # yedinci gun parasi - Pazartesi\n",
    "print(deposit)"
   ]
  },
  {
   "cell_type": "code",
   "execution_count": 2,
   "metadata": {
    "tags": []
   },
   "outputs": [
    {
     "output_type": "stream",
     "name": "stdout",
     "text": "1605.7814764784307\n"
    }
   ],
   "source": [
    "deposit = 1000\n",
    "deposit = (deposit * 1.07 ** 7)\n",
    "print(deposit)"
   ]
  },
  {
   "cell_type": "code",
   "execution_count": null,
   "metadata": {},
   "outputs": [],
   "source": []
  }
 ],
 "metadata": {
  "language_info": {
   "codemirror_mode": {
    "name": "ipython",
    "version": 3
   },
   "file_extension": ".py",
   "mimetype": "text/x-python",
   "name": "python",
   "nbconvert_exporter": "python",
   "pygments_lexer": "ipython3",
   "version": "3.7.6-final"
  },
  "orig_nbformat": 2,
  "kernelspec": {
   "name": "python3",
   "display_name": "Python 3"
  }
 },
 "nbformat": 4,
 "nbformat_minor": 2
}