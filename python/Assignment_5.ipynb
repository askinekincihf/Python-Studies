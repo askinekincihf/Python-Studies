{
 "cells": [
  {
   "cell_type": "code",
   "execution_count": null,
   "metadata": {},
   "outputs": [],
   "source": [
    "\"\"\" Task:\n",
    "\n",
    "Find out if a given year is a \"leap\" year.\n",
    "\n",
    "In the Gregorian calendar, three criteria must be taken into account to identify leap years:\n",
    "    1.  The year must be evenly divisible by 4;\n",
    "    2.  If the year can also be evenly divided by 100, it is not a leap year; unless...\n",
    "    3.  The year is also evenly divisible by 400. Then it is a leap year.\n",
    "\n",
    "According to these rules, the years 2000 and 2400 are leap years, while 1800, 1900, 2100, 2200, 2300, and 2500 are not the leap years.\n",
    "\n",
    "Write a Python program that;\n",
    "Takes a 4-digit year from the user,\n",
    "Prints True if the given year by the user is a leap year, prints False otherwise. \"\"\""
   ]
  },
  {
   "cell_type": "code",
   "execution_count": 21,
   "metadata": {
    "tags": []
   },
   "outputs": [
    {
     "output_type": "stream",
     "name": "stdout",
     "text": "False: This is not a leap year\n"
    }
   ],
   "source": [
    "year = int(input('Please enter a four digit year:  '))\n",
    "if year %4 or year %400 == 0:\n",
    "    print(\"True : This is a leap year\")\n",
    "elif year %100 == 0:\n",
    "    print(\"False: This is not a leap year\")\n",
    "else:\n",
    "    print(\"False: This is not a leap year\")"
   ]
  },
  {
   "cell_type": "code",
   "execution_count": 32,
   "metadata": {
    "tags": []
   },
   "outputs": [
    {
     "output_type": "stream",
     "name": "stdout",
     "text": "True\n"
    }
   ],
   "source": [
    "year = int(input('Please enter a four digit year:  '))\n",
    "year = year %4 or year %400 == 0\n",
    "year = year %100 != 0\n",
    "print(year)"
   ]
  },
  {
   "cell_type": "code",
   "execution_count": 48,
   "metadata": {
    "tags": []
   },
   "outputs": [
    {
     "output_type": "stream",
     "name": "stdout",
     "text": "True\n"
    }
   ],
   "source": [
    "year = int(input('Please enter a four digit year:  '))\n",
    "year = year %4 or year %400 == 0 or year %100 != 0\n",
    "print(year)"
   ]
  },
  {
   "cell_type": "code",
   "execution_count": 3,
   "metadata": {
    "tags": []
   },
   "outputs": [
    {
     "output_type": "stream",
     "name": "stdout",
     "text": "False\n"
    }
   ],
   "source": [
    "year = int(input('Please enter a four digit year:  '))\n",
    "year = year % 4 == 0 and (year % 400 == 0 or year % 100 != 0)\n",
    "print(year)"
   ]
  },
  {
   "cell_type": "code",
   "execution_count": 5,
   "metadata": {
    "tags": []
   },
   "outputs": [
    {
     "output_type": "stream",
     "name": "stdout",
     "text": "False\n"
    }
   ],
   "source": [
    "year = int(input(\"Please enter four digit year: \"))\n",
    "leap = ((year % 4 == 0) and (year % 100 != 0)) or (year % 400 == 0)\n",
    "print(leap)"
   ]
  },
  {
   "cell_type": "code",
   "execution_count": 9,
   "metadata": {
    "tags": []
   },
   "outputs": [
    {
     "output_type": "stream",
     "name": "stdout",
     "text": "\nTrue\n"
    }
   ],
   "source": [
    "year = int(input(\"Please enter four digit year: \"))\n",
    "leap = ((year % 4 == 0) and (year % 100 != 0)) or (year % 400 == 0)\n",
    "print(leap * f\"{year} ia a leap year\")\n",
    "print(not leap * f\"{year} ia not a leap year\")\n"
   ]
  },
  {
   "cell_type": "code",
   "execution_count": 11,
   "metadata": {
    "tags": []
   },
   "outputs": [
    {
     "output_type": "stream",
     "name": "stdout",
     "text": "2000 is a leap year \n"
    }
   ],
   "source": [
    "year = int(input(\"Please enter four digit year: \"))\n",
    "leap = ((year % 4 == 0) and (year % 100 != 0)) or (year % 400 == 0)\n",
    "print(f\"{year} is a leap year\"*leap, f\"{year} is not a leap year\"* (not leap))"
   ]
  },
  {
   "cell_type": "code",
   "execution_count": null,
   "metadata": {},
   "outputs": [],
   "source": []
  }
 ],
 "metadata": {
  "language_info": {
   "codemirror_mode": {
    "name": "ipython",
    "version": 3
   },
   "file_extension": ".py",
   "mimetype": "text/x-python",
   "name": "python",
   "nbconvert_exporter": "python",
   "pygments_lexer": "ipython3",
   "version": "3.7.6-final"
  },
  "orig_nbformat": 2,
  "kernelspec": {
   "name": "python3",
   "display_name": "Python 3"
  }
 },
 "nbformat": 4,
 "nbformat_minor": 2
}