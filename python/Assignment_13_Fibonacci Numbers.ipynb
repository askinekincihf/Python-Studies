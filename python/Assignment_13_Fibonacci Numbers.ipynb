{
 "cells": [
  {
   "cell_type": "code",
   "execution_count": null,
   "metadata": {},
   "outputs": [],
   "source": [
    "\"\"\" Task : Create a list consisting of Fibonacci numbers from 1 to 55 using control flow statements.\n",
    "The desired output is like :\n",
    "fibonacci →  [1, 1, 2, 3, 5, 8, 13, 21, 34, 55]\"\"\""
   ]
  },
  {
   "cell_type": "code",
   "execution_count": 10,
   "metadata": {
    "tags": []
   },
   "outputs": [
    {
     "output_type": "stream",
     "name": "stdout",
     "text": "Fibonacci numbers are: [1, 1, 2, 3, 5, 8, 13, 21, 34, 55]\n"
    }
   ],
   "source": [
    "a = 1\n",
    "b = [1]\n",
    "c = 0\n",
    "while a <= 55:\n",
    "    b.append(a)\n",
    "    a = int(b[c+1]) + int(b[c])\n",
    "    c += 1      \n",
    "print(\"Fibonacci numbers are:\", b)"
   ]
  },
  {
   "cell_type": "code",
   "execution_count": null,
   "metadata": {},
   "outputs": [],
   "source": []
  }
 ],
 "metadata": {
  "language_info": {
   "codemirror_mode": {
    "name": "ipython",
    "version": 3
   },
   "file_extension": ".py",
   "mimetype": "text/x-python",
   "name": "python",
   "nbconvert_exporter": "python",
   "pygments_lexer": "ipython3",
   "version": 3
  },
  "orig_nbformat": 2,
  "kernelspec": {
   "name": "python_defaultSpec_1594548006879",
   "display_name": "Python 3.7.6 64-bit ('base': conda)"
  }
 },
 "nbformat": 4,
 "nbformat_minor": 2
}