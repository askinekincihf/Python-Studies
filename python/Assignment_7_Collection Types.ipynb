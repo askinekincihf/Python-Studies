{
 "cells": [
  {
   "cell_type": "code",
   "execution_count": null,
   "metadata": {},
   "outputs": [],
   "source": [
    "\"\"\" Objective: To improve your knowledge of collection types (set), boolean logic and raise your awareness of \"ten fingers keyboard\".\n",
    "Task : Find out if the given word is \"comfortable words\" in relation to the ten-finger keyboard use.\n",
    "\n",
    "A comfortable word is a word which you can type always alternating the hand you type with (assuming you type using a Q-keyboard and use of the ten-fingers standard).\n",
    "The word will always be a string consisting of only letters from a to z.\n",
    "Write a program to returns True if it's a comfortable word or False otherwise.\n",
    "                \n",
    "                Examples\n",
    "Given  word\t            Desired Output (explanation)\n",
    "tester\t                False (uses only left-hand fingers)*\n",
    "polly\t                False (uses only right-hand fingers)*\n",
    "clarusway\t            True (uses both hand fingers)*"
   ]
  },
  {
   "cell_type": "code",
   "execution_count": 60,
   "metadata": {
    "tags": []
   },
   "outputs": [
    {
     "output_type": "stream",
     "name": "stdout",
     "text": "True\n"
    }
   ],
   "source": [
    "given_words = set(input(\"Please enter a word from the keyboard: \"))\n",
    "left_hand_words = {\"q\", \"a\", \"z\", \"w\", \"s\", \"x\", \"e\", \"d\", \"c\", \"r\", \"f\", \"v\", \"t\", \"g\"}\n",
    "right_hand_words = {\"y\", \"h\", \"b\", \"u\", \"j\", \"n\", \"i\", \"k\", \"m\", \"o\", \"l\", \"p\"}\n",
    "result = bool(given_words.intersection(left_hand_words) and given_words.intersection(right_hand_words))\n",
    "print(result)"
   ]
  },
  {
   "cell_type": "code",
   "execution_count": 64,
   "metadata": {
    "tags": []
   },
   "outputs": [
    {
     "output_type": "stream",
     "name": "stdout",
     "text": "True\n"
    }
   ],
   "source": [
    "given_words = set(input(\"Please enter a word from the keyboard: \"))\n",
    "left_hand_words = {\"q\", \"a\", \"z\", \"w\", \"s\", \"x\", \"e\", \"d\", \"c\", \"r\", \"f\", \"v\", \"t\", \"g\"}\n",
    "right_hand_words = {\"y\", \"h\", \"b\", \"u\", \"j\", \"n\", \"i\", \"k\", \"m\", \"o\", \"l\", \"p\"}\n",
    "result = bool(given_words.difference(left_hand_words) and given_words.difference(right_hand_words))\n",
    "print(result)"
   ]
  },
  {
   "cell_type": "code",
   "execution_count": 12,
   "metadata": {
    "tags": []
   },
   "outputs": [
    {
     "output_type": "stream",
     "name": "stdout",
     "text": "{'s', 'a', 'n', 'k', 'i'}\nTrue\n"
    }
   ],
   "source": [
    "left_hand_words = {\"q\", \"a\", \"z\", \"w\", \"s\", \"x\", \"e\", \"d\", \"c\", \"r\", \"f\", \"v\", \"t\", \"g\"}\n",
    "right_hand_words = {\"y\", \"h\", \"b\", \"u\", \"j\", \"n\", \"i\", \"k\", \"m\", \"o\", \"l\", \"p\"}\n",
    "word =set(\"askin\")\n",
    "print(word)\n",
    "left_bool = bool(word.difference(left_hand_words))\n",
    "right_bool = bool(word.difference(left_hand_words))\n",
    "print(left_bool and right_bool)"
   ]
  },
  {
   "cell_type": "code",
   "execution_count": null,
   "metadata": {},
   "outputs": [],
   "source": []
  }
 ],
 "metadata": {
  "language_info": {
   "codemirror_mode": {
    "name": "ipython",
    "version": 3
   },
   "file_extension": ".py",
   "mimetype": "text/x-python",
   "name": "python",
   "nbconvert_exporter": "python",
   "pygments_lexer": "ipython3",
   "version": "3.7.6-final"
  },
  "orig_nbformat": 2,
  "kernelspec": {
   "name": "python3",
   "display_name": "Python 3"
  }
 },
 "nbformat": 4,
 "nbformat_minor": 2
}