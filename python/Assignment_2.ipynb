{
 "cells": [
  {
   "cell_type": "code",
   "execution_count": 8,
   "metadata": {},
   "outputs": [
    {
     "output_type": "error",
     "ename": "SyntaxError",
     "evalue": "invalid syntax (<ipython-input-8-7da1a69fde9c>, line 1)",
     "traceback": [
      "\u001b[1;36m  File \u001b[1;32m\"<ipython-input-8-7da1a69fde9c>\"\u001b[1;36m, line \u001b[1;32m1\u001b[0m\n\u001b[1;33m    age =  # can be assigned only True/False\u001b[0m\n\u001b[1;37m                                            ^\u001b[0m\n\u001b[1;31mSyntaxError\u001b[0m\u001b[1;31m:\u001b[0m invalid syntax\n"
     ]
    }
   ],
   "source": [
    "# Task : Estimating the risk of death from coronavirus.\n",
    "\n",
    "Consider the following questions in terms of True/False regarding someone else.\n",
    "\n",
    "Are you a cigarette addict older than 75 years old? Variable → age\n",
    "\n",
    "Do you have a severe chronic disease? Variable → chronic\n",
    "\n",
    "Is your immune system too weak? Variable → immune\n",
    "\n",
    "Set a logical algorithm using boolean logic operators (and/or) and the given variables in order to give us True (there is a risk of death) or False (there is not a risk of death) as a result.\n",
    "age =  # can be assigned only True/False\n",
    "chronic =  # can be assigned only True/False\n",
    "immune =  # can be assigned only True/False\n",
    "risk = ?"
   ]
  },
  {
   "cell_type": "code",
   "execution_count": 40,
   "metadata": {},
   "outputs": [
    {
     "output_type": "error",
     "ename": "SyntaxError",
     "evalue": "invalid syntax (<ipython-input-40-c46c0d54d2d7>, line 2)",
     "traceback": [
      "\u001b[1;36m  File \u001b[1;32m\"<ipython-input-40-c46c0d54d2d7>\"\u001b[1;36m, line \u001b[1;32m2\u001b[0m\n\u001b[1;33m    cigarette_addict, severe_chronic_disease, immune = ['yes', 'no']:\u001b[0m\n\u001b[1;37m                                                                    ^\u001b[0m\n\u001b[1;31mSyntaxError\u001b[0m\u001b[1;31m:\u001b[0m invalid syntax\n"
     ]
    }
   ],
   "source": [
    "age = 75\n",
    "cigarette_addict, severe_chronic_disease, immune = ['yes', 'no']:\n",
    "    'yes' in cigarette_addict, severe_chronic_disease, immune True\n",
    "    'no' in cigarette_addict, severe_chronic_disease, immune False\n",
    "input(\"Please enter your age: \")\n",
    "input(\"Do you smoke?\")\n",
    "input(\"Do you have a severe chronic disease?\")\n",
    "input(\"Is your immune system too weak?\")\n",
    "if age < 75:\n",
    "    print(\"No risk\")\n",
    "    else : cigarette_addict, severe_chronic_disease, immune = True\n",
    "print(\"There is a risk of death\")"
   ]
  },
  {
   "cell_type": "code",
   "execution_count": 5,
   "metadata": {},
   "outputs": [
    {
     "output_type": "error",
     "ename": "NameError",
     "evalue": "name 'Yes' is not defined",
     "traceback": [
      "\u001b[1;31m---------------------------------------------------------------------------\u001b[0m",
      "\u001b[1;31mNameError\u001b[0m                                 Traceback (most recent call last)",
      "\u001b[1;32m<ipython-input-5-729c82e5db20>\u001b[0m in \u001b[0;36m<module>\u001b[1;34m\u001b[0m\n\u001b[0;32m      1\u001b[0m \u001b[0minput\u001b[0m\u001b[1;33m(\u001b[0m\u001b[1;34m\"Do you have a severe chronic disease? \"\u001b[0m\u001b[1;33m)\u001b[0m\u001b[1;33m\u001b[0m\u001b[1;33m\u001b[0m\u001b[0m\n\u001b[0;32m      2\u001b[0m \u001b[0minput\u001b[0m\u001b[1;33m(\u001b[0m\u001b[1;34m\"Is your immune system too weak? \"\u001b[0m\u001b[1;33m)\u001b[0m\u001b[1;33m\u001b[0m\u001b[1;33m\u001b[0m\u001b[0m\n\u001b[1;32m----> 3\u001b[1;33m \u001b[0minput\u001b[0m\u001b[1;33m(\u001b[0m\u001b[1;34m\"Do you smoke? \"\u001b[0m\u001b[1;33m,\u001b[0m \u001b[0mYes\u001b[0m \u001b[1;32mor\u001b[0m \u001b[0mNo\u001b[0m\u001b[1;33m)\u001b[0m\u001b[1;33m\u001b[0m\u001b[1;33m\u001b[0m\u001b[0m\n\u001b[0m\u001b[0;32m      4\u001b[0m \u001b[1;32mif\u001b[0m \u001b[0mYes\u001b[0m\u001b[1;33m:\u001b[0m\u001b[1;33m\u001b[0m\u001b[1;33m\u001b[0m\u001b[0m\n\u001b[0;32m      5\u001b[0m     \u001b[0mprint\u001b[0m\u001b[1;33m(\u001b[0m\u001b[1;34m\"There is a risk of death\"\u001b[0m\u001b[1;33m)\u001b[0m\u001b[1;33m\u001b[0m\u001b[1;33m\u001b[0m\u001b[0m\n",
      "\u001b[1;31mNameError\u001b[0m: name 'Yes' is not defined"
     ]
    }
   ],
   "source": [
    "input(\"Do you have a severe chronic disease? \")\n",
    "input(\"Is your immune system too weak? \")\n",
    "input(\"Do you smoke? \", Yes or No)\n",
    "if Yes:\n",
    "    print(\"There is a risk of death\")"
   ]
  },
  {
   "cell_type": "code",
   "execution_count": null,
   "metadata": {},
   "outputs": [],
   "source": [
    "cigarette_addict, severe_chronic_disease, immune = ['yes', 'no']\n",
    "    'yes' in cigarette_addict, severe_chronic_disease, immune True\n",
    "    'no' in cigarette_addict, severe_chronic_disease, immune False\n",
    "\n",
    "cigarette_addict = ['yes', 'no']\n",
    "    'yes' in cigarette_addict True\n",
    "    'no' in cigarette_addict False\n"
   ]
  },
  {
   "cell_type": "code",
   "execution_count": 4,
   "metadata": {},
   "outputs": [
    {
     "output_type": "error",
     "ename": "SyntaxError",
     "evalue": "invalid syntax (<ipython-input-4-9ee247f242f4>, line 3)",
     "traceback": [
      "\u001b[1;36m  File \u001b[1;32m\"<ipython-input-4-9ee247f242f4>\"\u001b[1;36m, line \u001b[1;32m3\u001b[0m\n\u001b[1;33m    if 'yes' in cigarette_addict True\u001b[0m\n\u001b[1;37m                                    ^\u001b[0m\n\u001b[1;31mSyntaxError\u001b[0m\u001b[1;31m:\u001b[0m invalid syntax\n"
     ]
    }
   ],
   "source": [
    "age = 75\n",
    "cigarette_addict = ['yes', 'no']\n",
    "if 'yes' in cigarette_addict True\n",
    "else 'no' in cigarette_addict False\n",
    "severe_chronic_disease = ['yes', 'no']\n",
    "if 'yes' in severe_chronic_disease True\n",
    "else 'no' in severe_chronic_disease False\n",
    "immune = ['yes', 'no']\n",
    "if 'yes' in immune True\n",
    "else 'no' in immune False\n",
    "input(\"Please enter your age: \")\n",
    "if age < 75:\n",
    "    print(\"No risk\")\n",
    "elif cigarette_addict, severe_chronic_disease, immune = True\n",
    "    input(\"Do you smoke?\")\n",
    "    input(\"Do you have a severe chronic disease?\")\n",
    "    input(\"Is your immune system too weak?\")\n",
    "print(\"There is a risk of death\")"
   ]
  },
  {
   "cell_type": "code",
   "execution_count": 13,
   "metadata": {
    "tags": []
   },
   "outputs": [
    {
     "output_type": "stream",
     "name": "stdout",
     "text": "There is no risk\n"
    }
   ],
   "source": [
    "age = 75\n",
    "cigarette_addict = severe_chronic_disease = immune = 0\n",
    "input(\"Please enter your age: \")\n",
    "if age < 75 :\n",
    "    print (\"No risk\") \n",
    "    Else\n",
    "print(\"There is no risk\")"
   ]
  },
  {
   "cell_type": "code",
   "execution_count": 7,
   "metadata": {
    "tags": []
   },
   "outputs": [
    {
     "output_type": "stream",
     "name": "stdout",
     "text": "80\n"
    }
   ],
   "source": [
    "age >= 75\n",
    "cigarette_addict = severe_chronic_disease = immune_weak = True\n",
    "logic = True\n",
    "input(\"Please enter your age: \")\n",
    "if age > 75 :\n",
    "    print(age)"
   ]
  },
  {
   "cell_type": "code",
   "execution_count": 6,
   "metadata": {
    "tags": []
   },
   "outputs": [
    {
     "output_type": "stream",
     "name": "stdout",
     "text": "Please type only yes or no\n"
    }
   ],
   "source": [
    "cigarette = \"yes\"\n",
    "chronic = \"yes\"\n",
    "immune = \"yes\"\n",
    "if cigarette.lower() != \"yes\" or cigarette.lower() != \"no\":\n",
    "    print(\"Please type only yes or no\")\n",
    "else:\n",
    "    print(\"OK\")"
   ]
  },
  {
   "cell_type": "code",
   "execution_count": 5,
   "metadata": {
    "tags": []
   },
   "outputs": [
    {
     "output_type": "stream",
     "name": "stdout",
     "text": "yüksek risk grubundasınız\n"
    }
   ],
   "source": [
    "age=int(input(\"yaşınızı nedir?\"))\n",
    "kronik=input(\"kronik bir rahatsızlığınız var mı? E/H\").upper()\n",
    "immune=input(\"bağışık sisteminiz güçlü mü E/H\").upper()\n",
    "if age>=75 and kronik==\"E\" and immune==\"H\":\n",
    "    print(\"ölüm riskiniz var\")\n",
    "elif age>=75 and kronik==\"E\" or immune==\"H\":\n",
    "    print(\"yüksek risk grubundasınız\")    \n",
    "elif age<75 and kronik==\"E\" and immune==\"H\":\n",
    "    print(\"orta risk grubundasınız\")\n",
    "elif age<75 and kronik==\"E\" or immune==\"H\":\n",
    "    print(\"düşük risk grubundasınız\")\n",
    "else:\n",
    "    print(\"ölüm riskiniz yok\")"
   ]
  },
  {
   "cell_type": "code",
   "execution_count": 5,
   "metadata": {
    "tags": []
   },
   "outputs": [
    {
     "output_type": "stream",
     "name": "stdout",
     "text": "There is a risk of death\n"
    }
   ],
   "source": [
    "age = int(input(\"Please enter your age\"))\n",
    "chronic = input(\"Do you have a severe chronic disease? Yes/No\").capitalize()\n",
    "immune = input(\"Is your immune system too weak? Yes/No\").capitalize()\n",
    "if age>=75 and chronic==\"Yes\" and immune==\"Yes\" :\n",
    "    print(\"There is a risk of death\")\n",
    "elif age>=75 and chronic==\"Yes\" or immune==\"Yes\" :\n",
    "    print(\"There is a high risk\")\n",
    "elif age<75 and chronic==\"Yes\" and immune==\"Yes\" :\n",
    "    print(\"there is a moderate risk\")\n",
    "elif age<75 and chronic==\"Yes\" or immune==\"Yes\" :\n",
    "    print(\"There is a low risk\")\n",
    "else: \n",
    "    print(\"No risk\")"
   ]
  },
  {
   "cell_type": "code",
   "execution_count": 5,
   "metadata": {
    "tags": []
   },
   "outputs": [
    {
     "output_type": "stream",
     "name": "stdout",
     "text": "No risk\n"
    }
   ],
   "source": [
    "age = int(input(\"Please enter your age \"))\n",
    "addict = input(\"Do you smoke? Yes/No \").capitalize()\n",
    "chronic = input(\"Do you have a severe chronic disease? Yes/No \").capitalize()\n",
    "immune = input(\"Is your immune system too weak? Yes/No \").capitalize()\n",
    "if age>=75 and addict==\"Yes\" and chronic==\"Yes\" and immune==\"Yes\" :\n",
    "    print(\"There is a risk of death\")\n",
    "elif age>=75 and addict== \"Yes\" and chronic==\"Yes\" or immune==\"Yes\" :\n",
    "    print(\"There is a high risk\")\n",
    "elif age<75 and addict== \"Yes\" and chronic==\"Yes\" and immune==\"Yes\" :\n",
    "    print(\"there is a moderate risk\")\n",
    "elif age<75 and addict== \"Yes\" and chronic==\"Yes\" or immune==\"Yes\" :\n",
    "    print(\"There is a low risk\")\n",
    "else: \n",
    "    print(\"No risk\")"
   ]
  },
  {
   "cell_type": "code",
   "execution_count": 2,
   "metadata": {
    "tags": []
   },
   "outputs": [
    {
     "output_type": "stream",
     "name": "stdout",
     "text": "False\nTrue\n"
    }
   ],
   "source": [
    "age = True\n",
    "chronic = True\n",
    "immune = True\n",
    "risk = age and chronic and immune\n",
    "print(risk)\n",
    "risk = age and chronic or immune\n",
    "print(risk)"
   ]
  },
  {
   "cell_type": "code",
   "execution_count": 4,
   "metadata": {
    "tags": []
   },
   "outputs": [
    {
     "output_type": "stream",
     "name": "stdout",
     "text": "True\nTrue\n"
    }
   ],
   "source": [
    "age = True\n",
    "chronic = True\n",
    "immune = True\n",
    "input(\"How ould are you?: \")\n",
    "risk = age or chronic or immune\n",
    "print(risk)\n",
    "risk = age and chronic and immune\n",
    "print(risk)"
   ]
  },
  {
   "cell_type": "code",
   "execution_count": 2,
   "metadata": {
    "tags": []
   },
   "outputs": [
    {
     "output_type": "stream",
     "name": "stdout",
     "text": "True\n"
    }
   ],
   "source": [
    "age = int(input(\"Please enter your age?: \"))\n",
    "cigarette = True\n",
    "chronic = True\n",
    "immune = True\n",
    "\n",
    "Coronovirus = age > 75 and cigarette == True or chronic == True or immune == True\n",
    "print(Coronovirus)"
   ]
  },
  {
   "cell_type": "code",
   "execution_count": 1,
   "metadata": {
    "tags": []
   },
   "outputs": [
    {
     "output_type": "stream",
     "name": "stdout",
     "text": "True\n"
    }
   ],
   "source": [
    "#  not, and, or\n",
    "print(bool())"
   ]
  },
  {
   "cell_type": "code",
   "execution_count": 4,
   "metadata": {
    "tags": []
   },
   "outputs": [
    {
     "output_type": "stream",
     "name": "stdout",
     "text": "True\n"
    }
   ],
   "source": [
    "age = False\n",
    "chronic = False\n",
    "immune = True\n",
    "risk = age or chronic or immune\n",
    "print(risk)\n"
   ]
  },
  {
   "cell_type": "code",
   "execution_count": 5,
   "metadata": {
    "tags": []
   },
   "outputs": [
    {
     "output_type": "stream",
     "name": "stdout",
     "text": "False\n"
    }
   ],
   "source": [
    "print([] and {0} or False)"
   ]
  },
  {
   "cell_type": "code",
   "execution_count": 9,
   "metadata": {
    "tags": []
   },
   "outputs": [
    {
     "output_type": "stream",
     "name": "stdout",
     "text": "[]\n"
    }
   ],
   "source": [
    "print(False or [] and {0})"
   ]
  },
  {
   "cell_type": "code",
   "execution_count": 16,
   "metadata": {},
   "outputs": [
    {
     "output_type": "error",
     "ename": "SyntaxError",
     "evalue": "EOL while scanning string literal (<ipython-input-16-0de2f7ed914b>, line 1)",
     "traceback": [
      "\u001b[1;36m  File \u001b[1;32m\"<ipython-input-16-0de2f7ed914b>\"\u001b[1;36m, line \u001b[1;32m1\u001b[0m\n\u001b[1;33m    print(not (''\"dolu string\" and \"\" or 0 and False and \"False\"')\u001b[0m\n\u001b[1;37m                                                                  ^\u001b[0m\n\u001b[1;31mSyntaxError\u001b[0m\u001b[1;31m:\u001b[0m EOL while scanning string literal\n"
     ]
    }
   ],
   "source": [
    "print(not (''\"dolu string\" and \"\" or 0 and False and \"False\"')"
   ]
  },
  {
   "cell_type": "code",
   "execution_count": null,
   "metadata": {},
   "outputs": [],
   "source": []
  }
 ],
 "metadata": {
  "language_info": {
   "codemirror_mode": {
    "name": "ipython",
    "version": 3
   },
   "file_extension": ".py",
   "mimetype": "text/x-python",
   "name": "python",
   "nbconvert_exporter": "python",
   "pygments_lexer": "ipython3",
   "version": "3.7.6-final"
  },
  "orig_nbformat": 2,
  "kernelspec": {
   "name": "python3",
   "display_name": "Python 3"
  }
 },
 "nbformat": 4,
 "nbformat_minor": 2
}