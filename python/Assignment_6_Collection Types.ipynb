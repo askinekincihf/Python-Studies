{
 "cells": [
  {
   "cell_type": "code",
   "execution_count": 16,
   "metadata": {
    "tags": []
   },
   "outputs": [
    {
     "output_type": "stream",
     "name": "stdout",
     "text": "{'cost_value': 31.87, 'sell_value': 45.0, 'inventory': 1000}\nTotal profit is: $ 13130\n"
    }
   ],
   "source": [
    "\"\"\" Task - 1 :\n",
    "You work for a manufacturer as a programmer and have been asked to calculate the total profit made on the sales of a product. You are given a dictionary (sales) containing the cost price per unit (in dollars), sell price per unit (in dollars), and the beginning inventory. Write a program to return the total profit made, rounded to the nearest dollar. Assume all of the inventory has been sold. The name and the keys of the dictionary are constant, so use them as they are.\n",
    "The example of the values (sell-cost value, inventory) and total profit :\n",
    "\n",
    "sales = {\n",
    "  \"cost_value\": 31.87,\n",
    "  \"sell_value\": 45.00,\n",
    "  \"inventory\": 1000\n",
    "}  \n",
    "# the profit will be : 13130 \"\"\"\n",
    "\n",
    "sales = {\n",
    "  \"cost_value\": 31.87,\n",
    "  \"sell_value\": 45.00,\n",
    "  \"inventory\": 1000\n",
    "}  \n",
    "print(sales)\n",
    "profit = round((sales[\"sell_value\"] - sales[\"cost_value\"]) * sales[\"inventory\"])\n",
    "print(\"Total profit is:\", \"$\", profit)"
   ]
  },
  {
   "cell_type": "code",
   "execution_count": 15,
   "metadata": {
    "tags": []
   },
   "outputs": [
    {
     "output_type": "stream",
     "name": "stdout",
     "text": "Total profit is: $ 13130\n"
    }
   ],
   "source": [
    "sales = {\n",
    "  \"cost_value\": 31.87,\n",
    "  \"sell_value\": 45.00,\n",
    "  \"inventory\": 1000\n",
    "}  \n",
    "profit = round((sales[\"sell_value\"] - sales[\"cost_value\"]) * sales[\"inventory\"])\n",
    "print(\"Total profit is:\", \"$\", profit)"
   ]
  },
  {
   "cell_type": "code",
   "execution_count": null,
   "metadata": {},
   "outputs": [],
   "source": [
    "\"\"\" Task - 2 :\n",
    "Your boss wants you to prepare the payrolls of the workers in your department. You have to convert the amount of dollars into payroll format. In order to help move things along, you have volunteered to write a code that will take a float and return the amount formatting in dollars and cents. \n",
    "\n",
    "Examples\n",
    "Given Float Type amount\tDesired Output\n",
    "3\t    $3.00\n",
    "29.99\t$29.99\n",
    "4.1\t    $4.10\n",
    "The output should be float type as well and two digits after the period. \"\"\""
   ]
  },
  {
   "cell_type": "code",
   "execution_count": 14,
   "metadata": {
    "tags": []
   },
   "outputs": [
    {
     "output_type": "stream",
     "name": "stdout",
     "text": "PAyroll is: $199.98\n"
    }
   ],
   "source": [
    "payroll = 199.97502\n",
    "formatted_payroll = \"${:.2f}\".format(payroll)  # Format the float with two decimal places\n",
    "print(\"Payroll is:\", formatted_payroll) "
   ]
  }
 ],
 "metadata": {
  "language_info": {
   "codemirror_mode": {
    "name": "ipython",
    "version": 3
   },
   "file_extension": ".py",
   "mimetype": "text/x-python",
   "name": "python",
   "nbconvert_exporter": "python",
   "pygments_lexer": "ipython3",
   "version": "3.7.6-final"
  },
  "orig_nbformat": 2,
  "kernelspec": {
   "name": "python3",
   "display_name": "Python 3"
  }
 },
 "nbformat": 4,
 "nbformat_minor": 2
}