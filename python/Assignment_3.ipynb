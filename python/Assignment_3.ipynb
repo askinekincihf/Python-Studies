{
 "cells": [
  {
   "cell_type": "code",
   "execution_count": null,
   "metadata": {},
   "outputs": [],
   "source": [
    "# Task 1: Write a short Python program that asks the user to enter Celsius temperature (it can be a decimal number), converts the entered temperature into Fahrenheit degree and prints the result.\n",
    "# Task 2: Write a short Python program that asks the user to enter a distance (it can be a decimal number) in kilometers, converts the entered distance into miles and prints the result."
   ]
  },
  {
   "cell_type": "code",
   "execution_count": 24,
   "metadata": {
    "tags": []
   },
   "outputs": [
    {
     "output_type": "stream",
     "name": "stdout",
     "text": "35.8 Celsius is: 96.44 Fahrenheit\n"
    }
   ],
   "source": [
    "#  Method 1 for Task 1\n",
    "celsius = float(input(\"Enter temperature in celsius: \"))\n",
    "fahrenheit = ((celsius * 9/5) + 32)\n",
    "print(celsius, \"Celsius \" \"is:\", round(fahrenheit, 2), \"Fahrenheit\")\n"
   ]
  },
  {
   "cell_type": "code",
   "execution_count": 3,
   "metadata": {
    "tags": []
   },
   "outputs": [
    {
     "output_type": "stream",
     "name": "stdout",
     "text": "37.00 Celsius is: 98.60 Fahrenheit\n"
    }
   ],
   "source": [
    "#  Method 2 for Task 1\n",
    "celsius = float(input(\"Enter temperature in celsius: \"))\n",
    "fahrenheit = (celsius * 9/5) + 32\n",
    "print('%.2f Celsius is: %0.2f Fahrenheit' %(celsius, fahrenheit))"
   ]
  },
  {
   "cell_type": "code",
   "execution_count": 22,
   "metadata": {
    "tags": []
   },
   "outputs": [
    {
     "output_type": "stream",
     "name": "stdout",
     "text": "1.0 km is:  0.62 miles\n"
    }
   ],
   "source": [
    "#  Method 1 for Task 2\n",
    "kilometers = float(input(\"Enter the distance in kilometers:? \"))\n",
    "miles = kilometers / 1.609\n",
    "print(kilometers, \"km is: \", round(miles, 2), \"miles\")\n"
   ]
  },
  {
   "cell_type": "code",
   "execution_count": 27,
   "metadata": {
    "tags": []
   },
   "outputs": [
    {
     "output_type": "stream",
     "name": "stdout",
     "text": "1.0 km is:  0.62 miles\n"
    }
   ],
   "source": [
    "#  Method 2 for Task 2\n",
    "kilometers = float(input(\"Enter the distance in kilometers:? \"))\n",
    "miles = kilometers * 0.621371\n",
    "print(kilometers, \"km is: \", round(miles, 2), \"miles\")"
   ]
  },
  {
   "cell_type": "code",
   "execution_count": 6,
   "metadata": {
    "tags": []
   },
   "outputs": [
    {
     "output_type": "stream",
     "name": "stdout",
     "text": "Celsius derece olarak 37.3 degeri, 99.14 fahrenheit\n"
    }
   ],
   "source": [
    "celsius = float(input(\"Celsius isi degeri girelim:\"))\n",
    "fahrenheit = (celsius * 1.8) + 32\n",
    "output = f\"Celsius derece olarak {celsius} degeri, {fahrenheit} fahrenheit\"\n",
    "\n",
    "print(output)"
   ]
  },
  {
   "cell_type": "code",
   "execution_count": 7,
   "metadata": {
    "tags": []
   },
   "outputs": [
    {
     "output_type": "stream",
     "name": "stdout",
     "text": "21\n"
    }
   ],
   "source": [
    "print(\"2\" + \"1\")"
   ]
  },
  {
   "cell_type": "code",
   "execution_count": null,
   "metadata": {},
   "outputs": [],
   "source": []
  }
 ],
 "metadata": {
  "language_info": {
   "codemirror_mode": {
    "name": "ipython",
    "version": 3
   },
   "file_extension": ".py",
   "mimetype": "text/x-python",
   "name": "python",
   "nbconvert_exporter": "python",
   "pygments_lexer": "ipython3",
   "version": "3.7.6-final"
  },
  "orig_nbformat": 2,
  "kernelspec": {
   "name": "python3",
   "display_name": "Python 3"
  }
 },
 "nbformat": 4,
 "nbformat_minor": 2
}