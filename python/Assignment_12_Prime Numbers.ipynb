{
 "cells": [
  {
   "cell_type": "code",
   "execution_count": null,
   "metadata": {},
   "outputs": [],
   "source": [
    "\"\"\" Task : Write a program that takes a number from the user and prints the result to check if it is a prime number.\n",
    "The examples of the desired output are as follows :\n",
    "input →  19 ⇉ output : 19 is a prime number\n",
    "input →  10 ⇉ output : 10 is not a prime numberTask : Write a program that takes a number from the user and prints the result to check if it is a prime number.\"\"\""
   ]
  },
  {
   "cell_type": "code",
   "execution_count": 4,
   "metadata": {
    "tags": []
   },
   "outputs": [
    {
     "output_type": "stream",
     "name": "stdout",
     "text": "11 is prime number\n"
    }
   ],
   "source": [
    "number = int(input(\"Enter a number:  \"))\n",
    "list_number = []\n",
    "for i in range(2, number):\n",
    "    if number % i == 0 :\n",
    "        list_number.append(\"1\")\n",
    "    else:\n",
    "        list_number.append(\"0\")\n",
    "if \"1\" in list_number:\n",
    "    print(number, \"is not prime number\")\n",
    "else:\n",
    "    print(number, \"is prime number\")"
   ]
  },
  {
   "cell_type": "code",
   "execution_count": null,
   "metadata": {},
   "outputs": [],
   "source": []
  }
 ],
 "metadata": {
  "language_info": {
   "codemirror_mode": {
    "name": "ipython",
    "version": 3
   },
   "file_extension": ".py",
   "mimetype": "text/x-python",
   "name": "python",
   "nbconvert_exporter": "python",
   "pygments_lexer": "ipython3",
   "version": 3
  },
  "orig_nbformat": 2,
  "kernelspec": {
   "name": "python_defaultSpec_1594546991889",
   "display_name": "Python 3.7.6 64-bit ('base': conda)"
  }
 },
 "nbformat": 4,
 "nbformat_minor": 2
}