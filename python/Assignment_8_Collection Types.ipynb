{
 "cells": [
  {
   "cell_type": "code",
   "execution_count": null,
   "metadata": {},
   "outputs": [],
   "source": [
    "\"\"\" Objective: To improve your knowledge of collection types (list), working with several built-in functions skills.\n",
    "\n",
    "Task : Find out the most frequent number and its frequency.\n",
    "\n",
    "Write a program that;\n",
    "\n",
    "Finds out the most frequent number in the given list.\n",
    "Calculates its frequency.\n",
    "Prints out the result such as :\n",
    "            Example\n",
    "Given list\t            Desired Output\n",
    "numbers =   [1, 3, 7, 4, 3, 0, 3, 6, 3]\n",
    "the most frequent number is 3 and it was 4 times repeated\"\"\""
   ]
  },
  {
   "cell_type": "code",
   "execution_count": 1,
   "metadata": {},
   "outputs": [
    {
     "output_type": "error",
     "ename": "NameError",
     "evalue": "name 'most_frequent' is not defined",
     "traceback": [
      "\u001b[1;31m---------------------------------------------------------------------------\u001b[0m",
      "\u001b[1;31mNameError\u001b[0m                                 Traceback (most recent call last)",
      "\u001b[1;32m<ipython-input-1-9e028b952ab6>\u001b[0m in \u001b[0;36m<module>\u001b[1;34m\u001b[0m\n\u001b[0;32m      1\u001b[0m \u001b[0mnumbers\u001b[0m \u001b[1;33m=\u001b[0m \u001b[1;33m[\u001b[0m\u001b[1;36m1\u001b[0m\u001b[1;33m,\u001b[0m \u001b[1;36m3\u001b[0m\u001b[1;33m,\u001b[0m \u001b[1;36m7\u001b[0m\u001b[1;33m,\u001b[0m \u001b[1;36m4\u001b[0m\u001b[1;33m,\u001b[0m \u001b[1;36m3\u001b[0m\u001b[1;33m,\u001b[0m \u001b[1;36m0\u001b[0m\u001b[1;33m,\u001b[0m \u001b[1;36m3\u001b[0m\u001b[1;33m,\u001b[0m \u001b[1;36m6\u001b[0m\u001b[1;33m,\u001b[0m \u001b[1;36m3\u001b[0m\u001b[1;33m]\u001b[0m\u001b[1;33m\u001b[0m\u001b[1;33m\u001b[0m\u001b[0m\n\u001b[1;32m----> 2\u001b[1;33m \u001b[0mfrequency\u001b[0m \u001b[1;33m=\u001b[0m \u001b[0mmost_frequent\u001b[0m\u001b[1;33m(\u001b[0m\u001b[0mnumbers\u001b[0m\u001b[1;33m)\u001b[0m\u001b[1;33m\u001b[0m\u001b[1;33m\u001b[0m\u001b[0m\n\u001b[0m\u001b[0;32m      3\u001b[0m \u001b[0mprint\u001b[0m\u001b[1;33m(\u001b[0m\u001b[1;34mf\"The most frequent number is {frequency} and this number {numbers.count(frequency)} times repeated in the list.\"\u001b[0m\u001b[1;33m)\u001b[0m\u001b[1;33m\u001b[0m\u001b[1;33m\u001b[0m\u001b[0m\n",
      "\u001b[1;31mNameError\u001b[0m: name 'most_frequent' is not defined"
     ]
    }
   ],
   "source": [
    "numbers = [1, 3, 7, 4, 3, 0, 3, 6, 3] \n",
    "frequency = most_frequent(numbers)\n",
    "print(f\"The most frequent number is {frequency} and this number {numbers.count(frequency)} times repeated in the list.\")"
   ]
  },
  {
   "cell_type": "code",
   "execution_count": 7,
   "metadata": {
    "tags": []
   },
   "outputs": [
    {
     "output_type": "stream",
     "name": "stdout",
     "text": "4\n3\n"
    }
   ],
   "source": [
    "List = [1, 3, 7, 4, 3, 0, 3, 6, 3] \n",
    "counter = 0\n",
    "num = List[0]\n",
    "\n",
    "for i in List:\n",
    "    current_frequency = List.count(i)\n",
    "    if(current_frequency > counter):\n",
    "        counter = current_frequency\n",
    "        num = i\n",
    "print(counter)\n",
    "print(num)"
   ]
  },
  {
   "cell_type": "code",
   "execution_count": 52,
   "metadata": {
    "tags": []
   },
   "outputs": [
    {
     "output_type": "stream",
     "name": "stdout",
     "text": "The most frequent number is 3 and it was 4 times repeated.\n"
    }
   ],
   "source": [
    "numbers = [1, 3, 7, 4, 3, 0, 3, 6, 3]\n",
    "counter = 0\n",
    "num = List[0] \n",
    "for i in numbers: \n",
    "    curr_frequency = List.count(i) \n",
    "    if(curr_frequency > counter): \n",
    "        counter = curr_frequency \n",
    "        num = i\n",
    "print(\"The most frequent number is {} and it was {} times repeated.\".format(num, counter)) "
   ]
  },
  {
   "cell_type": "code",
   "execution_count": 64,
   "metadata": {
    "tags": []
   },
   "outputs": [
    {
     "output_type": "stream",
     "name": "stdout",
     "text": "3\n"
    }
   ],
   "source": [
    "numbers = [1, 3, 7, 4, 3, 0, 3, 6, 3]\n",
    "numbers_m = max(set(numbers), key = numbers.count)\n",
    "print(numbers_m)"
   ]
  },
  {
   "cell_type": "code",
   "execution_count": 65,
   "metadata": {
    "tags": []
   },
   "outputs": [
    {
     "output_type": "stream",
     "name": "stdout",
     "text": "Frequency of each unique number of the list is as follows:\n{1: 1, 3: 4, 7: 1, 4: 1, 0: 1, 6: 1}\nThe most frequent number is 3 and it was 4 times repeated.\n"
    }
   ],
   "source": [
    "numbers = [1, 3, 7, 4, 3, 0, 3, 6, 3]\n",
    "d = {}\n",
    "for i in numbers:\n",
    "    if i not in d:\n",
    "        d.update({i:numbers.count(i)})\n",
    "l_keys = list(d.keys())\n",
    "l_values = list(d.values())\n",
    "m_value = max(d.values())\n",
    "i_keys = l_values.index(m_value)\n",
    "print(\"Frequency of each unique number of the list is as follows:\", d, sep = \"\\n\")\n",
    "print(f\"The most frequent number is {l_keys.index(m_value)} and it was {m_value} times repeated.\") "
   ]
  },
  {
   "cell_type": "code",
   "execution_count": 4,
   "metadata": {
    "tags": []
   },
   "outputs": [
    {
     "output_type": "stream",
     "name": "stdout",
     "text": "The most frequent number is 3 and this number 5 times repeated in the list.\n"
    }
   ],
   "source": [
    "numbers = (1, 2, 3, 3, 3, 4, 5, 6, 3, 4, 3)\n",
    "frequency = max(set(numbers),key=numbers.count)\n",
    "print(f\"The most frequent number is {frequency} and this number {numbers.count(frequency)} times repeated in the list.\")"
   ]
  },
  {
   "cell_type": "code",
   "execution_count": 3,
   "metadata": {
    "tags": []
   },
   "outputs": [
    {
     "output_type": "stream",
     "name": "stdout",
     "text": "The most frequent number is 3 and it was 5 times repeated\n"
    }
   ],
   "source": [
    "numbers = (1, 2, 3, 3, 3, 4, 5, 6, 3, 4, 3)\n",
    "item = max(numbers, key=numbers.count)\n",
    "frequency = numbers.count(item)\n",
    "print(\"The most frequent number is {} and it was {} times repeated\".format(item, frequency))"
   ]
  },
  {
   "cell_type": "code",
   "execution_count": 8,
   "metadata": {
    "tags": []
   },
   "outputs": [
    {
     "output_type": "stream",
     "name": "stdout",
     "text": "['Rome', 'Tokyo', 'Istanbul', 'Addis Adaba']\n"
    }
   ],
   "source": [
    "cities = [\"Addis Adaba\", \"Tokyo\", \"Rome\", \"Istanbul\"]\n",
    "cities_len = sorted(cities, key=len, reverse=False)\n",
    "print(cities_len)"
   ]
  },
  {
   "cell_type": "code",
   "execution_count": null,
   "metadata": {},
   "outputs": [],
   "source": [
    "cities = [\"Addis Adaba\", \"Tokyo\", \"Rome\", \"Istanbul\"]\n",
    "cities_len = sorted(cities, key=len, reverse=False)\n",
    "print(cities_len)"
   ]
  },
  {
   "cell_type": "code",
   "execution_count": 11,
   "metadata": {
    "tags": []
   },
   "outputs": [
    {
     "output_type": "stream",
     "name": "stdout",
     "text": "['yumurta', 'saman', 'igne', 'tezek', 'tirpan', 'inek', 'su', 'tavuk']\n2\n"
    }
   ],
   "source": [
    "samanlik = [\"yumurta\", \"saman\", \"igne\", \"tezek\", \"tirpan\", \"inek\", \"su\", \"tavuk\"]\n",
    "print(samanlik)\n",
    "print(samanlik.index(\"igne\"))"
   ]
  },
  {
   "cell_type": "code",
   "execution_count": 12,
   "metadata": {
    "tags": []
   },
   "outputs": [
    {
     "output_type": "stream",
     "name": "stdout",
     "text": "five\n5\nTrue\n"
    }
   ],
   "source": [
    "v = (\"five\", 5, True)\n",
    "x, y, z = v\n",
    "print(x, y, z, sep=\"\\n\")"
   ]
  },
  {
   "cell_type": "code",
   "execution_count": 16,
   "metadata": {},
   "outputs": [
    {
     "output_type": "error",
     "ename": "SyntaxError",
     "evalue": "can't assign to function call (<ipython-input-16-66b8428b40e1>, line 1)",
     "traceback": [
      "\u001b[1;36m  File \u001b[1;32m\"<ipython-input-16-66b8428b40e1>\"\u001b[1;36m, line \u001b[1;32m1\u001b[0m\n\u001b[1;33m    a = tuple(range(1, 8)) = (\"Monday\", \"Tuesday\", \"Wednesday\", \"Thursday\", \"Friday\", \"Saturday\", \"Sunday\")\u001b[0m\n\u001b[1;37m       ^\u001b[0m\n\u001b[1;31mSyntaxError\u001b[0m\u001b[1;31m:\u001b[0m can't assign to function call\n"
     ]
    }
   ],
   "source": [
    "a = tuple(range(1, 8)) = (\"Monday\", \"Tuesday\", \"Wednesday\", \"Thursday\", \"Friday\", \"Saturday\", \"Sunday\")"
   ]
  },
  {
   "cell_type": "code",
   "execution_count": 15,
   "metadata": {
    "tags": []
   },
   "outputs": [
    {
     "output_type": "stream",
     "name": "stdout",
     "text": "[1, 2, 3, 4, '11', '22', '33']\n"
    }
   ],
   "source": [
    "a = [1, 2, 3, 4] + [\"11\", \"22\", \"33\"]\n",
    "print(a\n",
    ")"
   ]
  },
  {
   "cell_type": "code",
   "execution_count": 19,
   "metadata": {
    "tags": []
   },
   "outputs": [
    {
     "output_type": "stream",
     "name": "stdout",
     "text": "(1, 2, [1, 3, 5, '1'])\n"
    }
   ],
   "source": [
    "tt = (1, 2, [1, 3, 5])\n",
    "tt[2].append(\"1\")\n",
    "print(tt)"
   ]
  },
  {
   "cell_type": "code",
   "execution_count": null,
   "metadata": {},
   "outputs": [],
   "source": []
  }
 ],
 "metadata": {
  "language_info": {
   "codemirror_mode": {
    "name": "ipython",
    "version": 3
   },
   "file_extension": ".py",
   "mimetype": "text/x-python",
   "name": "python",
   "nbconvert_exporter": "python",
   "pygments_lexer": "ipython3",
   "version": "3.7.6-final"
  },
  "orig_nbformat": 2,
  "kernelspec": {
   "name": "python3",
   "display_name": "Python 3"
  }
 },
 "nbformat": 4,
 "nbformat_minor": 2
}